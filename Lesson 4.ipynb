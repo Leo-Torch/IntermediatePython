{
 "cells": [
  {
   "cell_type": "markdown",
   "metadata": {},
   "source": [
    "# Introducing Classes and Objects\n",
    "- - -"
   ]
  },
  {
   "cell_type": "code",
   "execution_count": 2,
   "metadata": {},
   "outputs": [],
   "source": [
    "# What is an Object?\n",
    "#An object is simply anyting that has traits and can do actions"
   ]
  },
  {
   "cell_type": "code",
   "execution_count": 3,
   "metadata": {},
   "outputs": [],
   "source": [
    "#Traits are stored in attributes\n",
    "#The functions in the class are the actions"
   ]
  },
  {
   "cell_type": "code",
   "execution_count": 4,
   "metadata": {},
   "outputs": [],
   "source": [
    "#Objects are made from classes. \n",
    "#Classes are essentially the recipe for a cake which would be the object.\n",
    "#When you create an object, it's call instantiation since \n",
    "#it's made and controlled by the class.\n",
    "\n"
   ]
  },
  {
   "cell_type": "code",
   "execution_count": 25,
   "metadata": {},
   "outputs": [],
   "source": [
    "#Syntax for creating a class\n",
    "#If there's nothing in the parantheses, you can omit it. \n",
    "#The reason it's there is for inheritance. This essentially means\n",
    "#taking the attributes and other functions/methods\n",
    "\n"
   ]
  },
  {
   "cell_type": "markdown",
   "metadata": {},
   "source": [
    "`class Name():`\n"
   ]
  },
  {
   "cell_type": "code",
   "execution_count": 9,
   "metadata": {},
   "outputs": [
    {
     "name": "stdout",
     "output_type": "stream",
     "text": [
      "0\n",
      "1\n",
      "2\n",
      "3\n",
      "4\n",
      "5\n",
      "6\n",
      "7\n",
      "8\n",
      "9\n"
     ]
    }
   ],
   "source": [
    "for i in range(10):\n",
    "    print(i)\n",
    "    \n",
    "#All class names should be capitalized\n",
    "#class Name:"
   ]
  },
  {
   "cell_type": "markdown",
   "metadata": {},
   "source": [
    "`class CellPhone():`\n",
    "## Camel-Case Naming Convention"
   ]
  },
  {
   "cell_type": "code",
   "execution_count": 26,
   "metadata": {},
   "outputs": [
    {
     "name": "stdout",
     "output_type": "stream",
     "text": [
      "4\n",
      "5\n",
      "1\n"
     ]
    }
   ],
   "source": [
    "#Constructor\n",
    "\n",
    "\n",
    "#Instatiate \n",
    "#Recipe -> Cake, Cake, Cake \n",
    "\n",
    "#Tells Python what to do when you're trying to create an instance of that class.\n",
    "#__init__() => Constructor\n",
    "\n",
    "#self, {cupsOfSugar, cupsOfFlour, ...}\n",
    "#self => instance of the class you are building\n",
    "\n",
    "#self **always** is included in the constructor and other methods\n",
    "\n",
    "\n",
    "#Not every attribute that you make has to be a parameter into your constructor\n",
    "class Cake:\n",
    "    def __init__(self, cupsOfSugar, cupsOfFlour):\n",
    "        self.cupsOfSugar = cupsOfSugar\n",
    "        self.cupsOfFlour = cupsOfFlour\n",
    "        self.sticksOfButter = 1\n",
    "        \n",
    "cake = Cake(4, 5)\n",
    "print(cake.cupsOfSugar)\n",
    "print(cake.cupsOfFlour)\n",
    "print(cake.sticksOfButter)\n"
   ]
  },
  {
   "cell_type": "code",
   "execution_count": 30,
   "metadata": {},
   "outputs": [
    {
     "name": "stdout",
     "output_type": "stream",
     "text": [
      "0\n",
      "10\n"
     ]
    }
   ],
   "source": [
    "#amt of fuel, max amount of fuel, color of the Vehicle, make of the Vehicle (Ford, Toyota, ...)\n",
    "#Objects *most of the time will need to do actions\n",
    "#Actions is just going to be a function under that class\n",
    "\n",
    "#__something__ magic methods\n",
    "\n",
    "class Vehicle:\n",
    "    def __init__(self, amt, color, make, max_amt):\n",
    "        self.amt = amt\n",
    "        self.color = color\n",
    "        self.make = make\n",
    "        self.max_amt = max_amt\n",
    "        self.isBreak = False\n",
    "        self.position = 0\n",
    "    \n",
    "    def move(self, distance):\n",
    "        self.position += distance if not self.isBreak else 0\n",
    "        \n",
    "        \n",
    "    def __str__(self):\n",
    "        return str(self.amt) + \", \" + str(self.color) + \", \" + str(self.make)\n",
    "        #f-string |\n",
    "    \n",
    "        \n",
    "    #Getter & Setters\n",
    "    \n",
    "    def getAmt(self):\n",
    "        return self.amt\n",
    "    \n",
    "    def setAmt(self, amt):\n",
    "        self.amt = amt\n",
    "        \n",
    "        \n",
    "vehicle = Vehicle(20, \"black\", \"Mercedes\", 60)\n",
    "\n",
    "# print(vehicle)\n",
    "# print(vehicle.getAmt())    \n",
    "\n",
    "print(vehicle.position)\n",
    "vehicle.move(10)\n",
    "print(vehicle.position)"
   ]
  },
  {
   "cell_type": "markdown",
   "metadata": {},
   "source": [
    "# Inheritance\n",
    "- - -"
   ]
  },
  {
   "cell_type": "code",
   "execution_count": 35,
   "metadata": {},
   "outputs": [
    {
     "name": "stdout",
     "output_type": "stream",
     "text": [
      "False\n",
      "False\n",
      "\n",
      "\n",
      "False\n",
      "Doors opened!\n",
      "True\n",
      "Doors closed!\n",
      "False\n"
     ]
    }
   ],
   "source": [
    "# Vehicle is the parent of Car\n",
    "# Car is the child of Vehicle\n",
    "class Car(Vehicle):\n",
    "    def __init__(self, amt, color, make, max_amt, seats):\n",
    "        super().__init__(amt, color, make, max_amt)\n",
    "        self.type = \"car\"\n",
    "        self.seats = seats\n",
    "        self.open = False\n",
    "        \n",
    "    def openDoors(self):\n",
    "        if (not self.open):\n",
    "            print(\"Doors opened!\")\n",
    "            self.open = not self.open;\n",
    "        else:\n",
    "            print(\"Doors are already opened!\")\n",
    "            \n",
    "    def closeDoors(self):\n",
    "        if (not self.open):\n",
    "            print(\"Doors are already closed!\")\n",
    "        else:\n",
    "            print(\"Doors closed!\")\n",
    "            self.open = not self.open;\n",
    "    \n",
    "car = Car(20, \"black\", \"Mercedes\", 60, 4)\n",
    "print(car.isBreak)\n",
    "print(car.open)\n",
    "\n",
    "print(\"\")\n",
    "print(\"\")\n",
    "\n",
    "print(car.open)\n",
    "car.openDoors()\n",
    "print(car.open)\n",
    "car.closeDoors()\n",
    "print(car.open)"
   ]
  },
  {
   "cell_type": "markdown",
   "metadata": {},
   "source": [
    "# Overriding\n",
    "- - -"
   ]
  },
  {
   "cell_type": "code",
   "execution_count": 37,
   "metadata": {},
   "outputs": [],
   "source": [
    "class Person():\n",
    "    def __init__(self, fName, lName):\n",
    "        self.fName = fName\n",
    "        self.lName = lName\n",
    "\n",
    "    def greet(self):\n",
    "        print(\"Hello! I'm \"+self.fName+\" \"+ self.lName)"
   ]
  },
  {
   "cell_type": "code",
   "execution_count": 47,
   "metadata": {},
   "outputs": [],
   "source": [
    "class Student(Person):\n",
    "\tdef __init__(self, fName, lName, gradeLevel):\n",
    "\t\tsuper().__init__(fName, lName)\n",
    "\t\tself.gradeLevel = gradeLevel\n",
    "\n",
    "\tdef school_info(self, school):\n",
    "\t\tprint(\"I am a grade \"+str(self.gradeLevel)+\" student at \"+school)\n",
    "\n",
    "\tdef greet(self):\n",
    "\t\tprint(\"Hello! I'm a grade \"+str(self.gradeLevel)+\" student\")"
   ]
  },
  {
   "cell_type": "code",
   "execution_count": 48,
   "metadata": {},
   "outputs": [
    {
     "name": "stdout",
     "output_type": "stream",
     "text": [
      "Bob Green\n",
      "Hello! I'm a grade 6 student\n",
      "I am a grade 6 student at Random School\n"
     ]
    }
   ],
   "source": [
    "student = Student(\"Bob\", \"Green\", 6)\n",
    "print(student.fName+\" \"+student.lName)\n",
    "student.greet()\n",
    "student.school_info(\"Random School\")"
   ]
  },
  {
   "cell_type": "markdown",
   "metadata": {},
   "source": [
    "# Writing and Importing Class Modules\n",
    "- - -"
   ]
  },
  {
   "cell_type": "code",
   "execution_count": 53,
   "metadata": {},
   "outputs": [
    {
     "name": "stdout",
     "output_type": "stream",
     "text": [
      "Hello! My name is Thomas. I'm 12 years old and am in grade 6.\n"
     ]
    }
   ],
   "source": [
    "import myClass\n",
    "student1 = myClass.Student(\"Thomas\", 12, 6)\n",
    "student1.greet()"
   ]
  },
  {
   "cell_type": "code",
   "execution_count": null,
   "metadata": {},
   "outputs": [],
   "source": []
  },
  {
   "cell_type": "code",
   "execution_count": null,
   "metadata": {},
   "outputs": [],
   "source": []
  },
  {
   "cell_type": "code",
   "execution_count": null,
   "metadata": {},
   "outputs": [],
   "source": []
  },
  {
   "cell_type": "code",
   "execution_count": null,
   "metadata": {},
   "outputs": [],
   "source": []
  },
  {
   "cell_type": "code",
   "execution_count": null,
   "metadata": {},
   "outputs": [],
   "source": []
  }
 ],
 "metadata": {
  "kernelspec": {
   "display_name": "Python 3",
   "language": "python",
   "name": "python3"
  },
  "language_info": {
   "codemirror_mode": {
    "name": "ipython",
    "version": 3
   },
   "file_extension": ".py",
   "mimetype": "text/x-python",
   "name": "python",
   "nbconvert_exporter": "python",
   "pygments_lexer": "ipython3",
   "version": "3.8.9"
  }
 },
 "nbformat": 4,
 "nbformat_minor": 4
}
