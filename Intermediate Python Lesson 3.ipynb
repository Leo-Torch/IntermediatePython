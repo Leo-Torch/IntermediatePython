{
 "cells": [
  {
   "cell_type": "markdown",
   "metadata": {},
   "source": [
    "# Scopes\n",
    "- - -"
   ]
  },
  {
   "cell_type": "code",
   "execution_count": 3,
   "metadata": {},
   "outputs": [
    {
     "name": "stdout",
     "output_type": "stream",
     "text": [
      "Value of myNumber within the scope of myFunction: 5\n",
      "Value of myNumber: 10\n"
     ]
    },
    {
     "data": {
      "text/plain": [
       "' when a function executes, everything that happened in the function is essentially “forgotten”\\n“what happens in the function stays in the function”\\n\\n'"
      ]
     },
     "execution_count": 3,
     "metadata": {},
     "output_type": "execute_result"
    }
   ],
   "source": [
    "myNumber = 10 #global variable\n",
    "#global variable can be seen or accessed anywhere\n",
    "\n",
    "def myFunc1():\n",
    "    #local variable can only be seen inside the function it was defined in.\n",
    "\tmyNumber = 5\n",
    "\tprint(\"Value of myNumber within the scope of myFunction: \" + str(myNumber))\n",
    "\n",
    "myFunc1()\n",
    "print(\"Value of myNumber: \" + str(myNumber))\n",
    "\n",
    "\"\"\" when a function executes, everything that happened in the function is essentially “forgotten”\n",
    "“what happens in the function stays in the function”\n",
    "\n",
    "\"\"\""
   ]
  },
  {
   "cell_type": "code",
   "execution_count": 4,
   "metadata": {},
   "outputs": [
    {
     "name": "stdout",
     "output_type": "stream",
     "text": [
      "Before: 10\n",
      "After: 5\n"
     ]
    }
   ],
   "source": [
    "myNumber = 10\n",
    "def myFunc2():\n",
    "\tglobal myNumber\n",
    "\tmyNumber = 5\n",
    "print(\"Before: \" + str(myNumber))\n",
    "myFunc2()\n",
    "print(\"After: \" + str(myNumber))"
   ]
  },
  {
   "cell_type": "code",
   "execution_count": 5,
   "metadata": {},
   "outputs": [
    {
     "data": {
      "text/plain": [
       "{'__name__': '__main__',\n",
       " '__doc__': 'Automatically created module for IPython interactive environment',\n",
       " '__package__': None,\n",
       " '__loader__': None,\n",
       " '__spec__': None,\n",
       " '__builtin__': <module 'builtins' (built-in)>,\n",
       " '__builtins__': <module 'builtins' (built-in)>,\n",
       " '_ih': ['',\n",
       "  'myNumber = 10 #global variable\\n#global variable can be seen or accessed anywhere\\n\\ndef myFunc1():\\n    #local variable can only be seen inside the function it was defined in.\\n\\tmyNumber = 5\\n\\tprint(\"Value of myNumber within the scope of myFunction: \" + str(myNumber))\\n\\n# print(\"Value of myNumber before: \" + str(myNumber))\\n\\n# myFunc1()\\n# print(\"Value of myNumber: \" + str(myNumber))\\n\\n\"\"\" when a function executes, everything that happened in the function is essentially “forgotten”\\n“what happens in the function stays in the function”\\n\\n\"\"\"',\n",
       "  'myNumber = 10 #global variable\\n#global variable can be seen or accessed anywhere\\n\\ndef myFunc1():\\n    #local variable can only be seen inside the function it was defined in.\\n\\tmyNumber = 5\\n\\tprint(\"Value of myNumber within the scope of myFunction: \" + str(myNumber))\\n\\n# print(\"Value of myNumber before: \" + str(myNumber))\\n\\nmyFunc1()\\n# print(\"Value of myNumber: \" + str(myNumber))\\n\\n\"\"\" when a function executes, everything that happened in the function is essentially “forgotten”\\n“what happens in the function stays in the function”\\n\\n\"\"\"',\n",
       "  'myNumber = 10 #global variable\\n#global variable can be seen or accessed anywhere\\n\\ndef myFunc1():\\n    #local variable can only be seen inside the function it was defined in.\\n\\tmyNumber = 5\\n\\tprint(\"Value of myNumber within the scope of myFunction: \" + str(myNumber))\\n\\nmyFunc1()\\nprint(\"Value of myNumber: \" + str(myNumber))\\n\\n\"\"\" when a function executes, everything that happened in the function is essentially “forgotten”\\n“what happens in the function stays in the function”\\n\\n\"\"\"',\n",
       "  'myNumber = 10\\ndef myFunc2():\\n\\tglobal myNumber\\n\\tmyNumber = 5\\nprint(\"Before: \" + str(myNumber))\\nmyFunc2()\\nprint(\"After: \" + str(myNumber))',\n",
       "  'globals()'],\n",
       " '_oh': {1: ' when a function executes, everything that happened in the function is essentially “forgotten”\\n“what happens in the function stays in the function”\\n\\n',\n",
       "  2: ' when a function executes, everything that happened in the function is essentially “forgotten”\\n“what happens in the function stays in the function”\\n\\n',\n",
       "  3: ' when a function executes, everything that happened in the function is essentially “forgotten”\\n“what happens in the function stays in the function”\\n\\n'},\n",
       " '_dh': ['/Users/leo'],\n",
       " 'In': ['',\n",
       "  'myNumber = 10 #global variable\\n#global variable can be seen or accessed anywhere\\n\\ndef myFunc1():\\n    #local variable can only be seen inside the function it was defined in.\\n\\tmyNumber = 5\\n\\tprint(\"Value of myNumber within the scope of myFunction: \" + str(myNumber))\\n\\n# print(\"Value of myNumber before: \" + str(myNumber))\\n\\n# myFunc1()\\n# print(\"Value of myNumber: \" + str(myNumber))\\n\\n\"\"\" when a function executes, everything that happened in the function is essentially “forgotten”\\n“what happens in the function stays in the function”\\n\\n\"\"\"',\n",
       "  'myNumber = 10 #global variable\\n#global variable can be seen or accessed anywhere\\n\\ndef myFunc1():\\n    #local variable can only be seen inside the function it was defined in.\\n\\tmyNumber = 5\\n\\tprint(\"Value of myNumber within the scope of myFunction: \" + str(myNumber))\\n\\n# print(\"Value of myNumber before: \" + str(myNumber))\\n\\nmyFunc1()\\n# print(\"Value of myNumber: \" + str(myNumber))\\n\\n\"\"\" when a function executes, everything that happened in the function is essentially “forgotten”\\n“what happens in the function stays in the function”\\n\\n\"\"\"',\n",
       "  'myNumber = 10 #global variable\\n#global variable can be seen or accessed anywhere\\n\\ndef myFunc1():\\n    #local variable can only be seen inside the function it was defined in.\\n\\tmyNumber = 5\\n\\tprint(\"Value of myNumber within the scope of myFunction: \" + str(myNumber))\\n\\nmyFunc1()\\nprint(\"Value of myNumber: \" + str(myNumber))\\n\\n\"\"\" when a function executes, everything that happened in the function is essentially “forgotten”\\n“what happens in the function stays in the function”\\n\\n\"\"\"',\n",
       "  'myNumber = 10\\ndef myFunc2():\\n\\tglobal myNumber\\n\\tmyNumber = 5\\nprint(\"Before: \" + str(myNumber))\\nmyFunc2()\\nprint(\"After: \" + str(myNumber))',\n",
       "  'globals()'],\n",
       " 'Out': {1: ' when a function executes, everything that happened in the function is essentially “forgotten”\\n“what happens in the function stays in the function”\\n\\n',\n",
       "  2: ' when a function executes, everything that happened in the function is essentially “forgotten”\\n“what happens in the function stays in the function”\\n\\n',\n",
       "  3: ' when a function executes, everything that happened in the function is essentially “forgotten”\\n“what happens in the function stays in the function”\\n\\n'},\n",
       " 'get_ipython': <bound method InteractiveShell.get_ipython of <ipykernel.zmqshell.ZMQInteractiveShell object at 0x10f106d90>>,\n",
       " 'exit': <IPython.core.autocall.ZMQExitAutocall at 0x10f137c70>,\n",
       " 'quit': <IPython.core.autocall.ZMQExitAutocall at 0x10f137c70>,\n",
       " '_': ' when a function executes, everything that happened in the function is essentially “forgotten”\\n“what happens in the function stays in the function”\\n\\n',\n",
       " '__': ' when a function executes, everything that happened in the function is essentially “forgotten”\\n“what happens in the function stays in the function”\\n\\n',\n",
       " '___': ' when a function executes, everything that happened in the function is essentially “forgotten”\\n“what happens in the function stays in the function”\\n\\n',\n",
       " '_i': 'myNumber = 10\\ndef myFunc2():\\n\\tglobal myNumber\\n\\tmyNumber = 5\\nprint(\"Before: \" + str(myNumber))\\nmyFunc2()\\nprint(\"After: \" + str(myNumber))',\n",
       " '_ii': 'myNumber = 10 #global variable\\n#global variable can be seen or accessed anywhere\\n\\ndef myFunc1():\\n    #local variable can only be seen inside the function it was defined in.\\n\\tmyNumber = 5\\n\\tprint(\"Value of myNumber within the scope of myFunction: \" + str(myNumber))\\n\\nmyFunc1()\\nprint(\"Value of myNumber: \" + str(myNumber))\\n\\n\"\"\" when a function executes, everything that happened in the function is essentially “forgotten”\\n“what happens in the function stays in the function”\\n\\n\"\"\"',\n",
       " '_iii': 'myNumber = 10 #global variable\\n#global variable can be seen or accessed anywhere\\n\\ndef myFunc1():\\n    #local variable can only be seen inside the function it was defined in.\\n\\tmyNumber = 5\\n\\tprint(\"Value of myNumber within the scope of myFunction: \" + str(myNumber))\\n\\n# print(\"Value of myNumber before: \" + str(myNumber))\\n\\nmyFunc1()\\n# print(\"Value of myNumber: \" + str(myNumber))\\n\\n\"\"\" when a function executes, everything that happened in the function is essentially “forgotten”\\n“what happens in the function stays in the function”\\n\\n\"\"\"',\n",
       " '_i1': 'myNumber = 10 #global variable\\n#global variable can be seen or accessed anywhere\\n\\ndef myFunc1():\\n    #local variable can only be seen inside the function it was defined in.\\n\\tmyNumber = 5\\n\\tprint(\"Value of myNumber within the scope of myFunction: \" + str(myNumber))\\n\\n# print(\"Value of myNumber before: \" + str(myNumber))\\n\\n# myFunc1()\\n# print(\"Value of myNumber: \" + str(myNumber))\\n\\n\"\"\" when a function executes, everything that happened in the function is essentially “forgotten”\\n“what happens in the function stays in the function”\\n\\n\"\"\"',\n",
       " 'myNumber': 5,\n",
       " 'myFunc1': <function __main__.myFunc1()>,\n",
       " '_1': ' when a function executes, everything that happened in the function is essentially “forgotten”\\n“what happens in the function stays in the function”\\n\\n',\n",
       " '_i2': 'myNumber = 10 #global variable\\n#global variable can be seen or accessed anywhere\\n\\ndef myFunc1():\\n    #local variable can only be seen inside the function it was defined in.\\n\\tmyNumber = 5\\n\\tprint(\"Value of myNumber within the scope of myFunction: \" + str(myNumber))\\n\\n# print(\"Value of myNumber before: \" + str(myNumber))\\n\\nmyFunc1()\\n# print(\"Value of myNumber: \" + str(myNumber))\\n\\n\"\"\" when a function executes, everything that happened in the function is essentially “forgotten”\\n“what happens in the function stays in the function”\\n\\n\"\"\"',\n",
       " '_2': ' when a function executes, everything that happened in the function is essentially “forgotten”\\n“what happens in the function stays in the function”\\n\\n',\n",
       " '_i3': 'myNumber = 10 #global variable\\n#global variable can be seen or accessed anywhere\\n\\ndef myFunc1():\\n    #local variable can only be seen inside the function it was defined in.\\n\\tmyNumber = 5\\n\\tprint(\"Value of myNumber within the scope of myFunction: \" + str(myNumber))\\n\\nmyFunc1()\\nprint(\"Value of myNumber: \" + str(myNumber))\\n\\n\"\"\" when a function executes, everything that happened in the function is essentially “forgotten”\\n“what happens in the function stays in the function”\\n\\n\"\"\"',\n",
       " '_3': ' when a function executes, everything that happened in the function is essentially “forgotten”\\n“what happens in the function stays in the function”\\n\\n',\n",
       " '_i4': 'myNumber = 10\\ndef myFunc2():\\n\\tglobal myNumber\\n\\tmyNumber = 5\\nprint(\"Before: \" + str(myNumber))\\nmyFunc2()\\nprint(\"After: \" + str(myNumber))',\n",
       " 'myFunc2': <function __main__.myFunc2()>,\n",
       " '_i5': 'globals()'}"
      ]
     },
     "execution_count": 5,
     "metadata": {},
     "output_type": "execute_result"
    }
   ],
   "source": [
    "globals()"
   ]
  },
  {
   "cell_type": "code",
   "execution_count": 6,
   "metadata": {},
   "outputs": [
    {
     "name": "stdout",
     "output_type": "stream",
     "text": [
      "1\n"
     ]
    }
   ],
   "source": [
    "def sayHi(count):\n",
    "    if (count == 0):\n",
    "        return\n",
    "    global b\n",
    "    b = count\n",
    "    sayHi(count - 1)\n",
    "\n",
    "sayHi(5)\n",
    "print(b)"
   ]
  },
  {
   "cell_type": "markdown",
   "metadata": {},
   "source": [
    "# Generators\n",
    "- - -"
   ]
  },
  {
   "cell_type": "code",
   "execution_count": 7,
   "metadata": {},
   "outputs": [],
   "source": [
    "import random\n",
    "import time"
   ]
  },
  {
   "cell_type": "code",
   "execution_count": 9,
   "metadata": {},
   "outputs": [
    {
     "name": "stdout",
     "output_type": "stream",
     "text": [
      "[1, 4, 9, 16, 25]\n"
     ]
    }
   ],
   "source": [
    "def square_numbers(nums):\n",
    "    result = []\n",
    "    for i in nums:\n",
    "        result.append(i**2)\n",
    "    return result\n",
    "\n",
    "my_nums = square_numbers([1,2,3,4,5])\n",
    "print(my_nums)"
   ]
  },
  {
   "cell_type": "code",
   "execution_count": 16,
   "metadata": {},
   "outputs": [
    {
     "name": "stdout",
     "output_type": "stream",
     "text": [
      "<generator object square_numbers at 0x10f297ac0>\n",
      "[1, 4, 9, 16, 25]\n"
     ]
    }
   ],
   "source": [
    "def square_numbers(nums):\n",
    "    for i in nums:\n",
    "        yield i * i\n",
    "        \n",
    "\n",
    "my_nums = square_numbers([1,2,3,4,5])\n",
    "print(my_nums)\n",
    "\n",
    "for i in my_nums:\n",
    "    print(i)\n",
    "    \n",
    "print(list(my_nums))"
   ]
  },
  {
   "cell_type": "code",
   "execution_count": 20,
   "metadata": {},
   "outputs": [
    {
     "name": "stdout",
     "output_type": "stream",
     "text": [
      "<generator object <genexpr> at 0x10f2a40b0>\n",
      "1\n",
      "4\n",
      "9\n",
      "16\n",
      "25\n"
     ]
    }
   ],
   "source": [
    "my_nums = (x*x for x in [1,2,3,4,5])\n",
    "print(my_nums)\n",
    "for i in my_nums:\n",
    "    print(i)"
   ]
  },
  {
   "cell_type": "code",
   "execution_count": 21,
   "metadata": {},
   "outputs": [],
   "source": [
    "names = ['Leo', 'David', 'David', 'William', 'Daniel', 'Jerry', \"Jerry\"]\n",
    "majors = ['Math', 'Engineering', 'CompSci', 'Arts', 'Business']"
   ]
  },
  {
   "cell_type": "code",
   "execution_count": 22,
   "metadata": {},
   "outputs": [],
   "source": [
    "def people_list(num_people):\n",
    "    result = []\n",
    "    for i in range(num_people):\n",
    "        person = {\n",
    "                    'id': i,\n",
    "                    'name': random.choice(names),\n",
    "                    'major': random.choice(majors)\n",
    "                }\n",
    "        result.append(person)\n",
    "    return result"
   ]
  },
  {
   "cell_type": "code",
   "execution_count": 23,
   "metadata": {},
   "outputs": [],
   "source": [
    "def people_generator(num_people):\n",
    "    for i in range(num_people):\n",
    "        person = {\n",
    "                    'id': i,\n",
    "                    'name': random.choice(names),\n",
    "                    'major': random.choice(majors)\n",
    "                }\n",
    "        yield person"
   ]
  },
  {
   "cell_type": "code",
   "execution_count": 24,
   "metadata": {},
   "outputs": [
    {
     "name": "stdout",
     "output_type": "stream",
     "text": [
      "1.7344090938568115\n"
     ]
    }
   ],
   "source": [
    "t = time.time()\n",
    "people = people_list(1000000)\n",
    "print(time.time() - t)"
   ]
  },
  {
   "cell_type": "code",
   "execution_count": 26,
   "metadata": {},
   "outputs": [
    {
     "name": "stdout",
     "output_type": "stream",
     "text": [
      "7.915496826171875e-05\n"
     ]
    }
   ],
   "source": [
    "t = time.time()\n",
    "people = people_generator(1000000)\n",
    "print(time.time() - t)\n"
   ]
  },
  {
   "cell_type": "code",
   "execution_count": 27,
   "metadata": {},
   "outputs": [
    {
     "name": "stdout",
     "output_type": "stream",
     "text": [
      "1.801090955734253\n"
     ]
    }
   ],
   "source": [
    "t = time.time()\n",
    "people = list(people)\n",
    "print(time.time() - t)"
   ]
  },
  {
   "cell_type": "code",
   "execution_count": 68,
   "metadata": {},
   "outputs": [],
   "source": [
    "def evenNums():\n",
    "    num = 0\n",
    "    while True:\n",
    "        yield num\n",
    "        num += 2\n",
    "evens = evenNums()\n",
    "\n",
    "#runs forever\n",
    "\n",
    "# for i in evens:\n",
    "#     print(i)\n",
    "\n",
    "# gives me the 100 even numbers\n",
    "#for i in range(100):\n",
    "#    print(next(evens))"
   ]
  },
  {
   "cell_type": "markdown",
   "metadata": {},
   "source": [
    "# Lambda\n",
    "- - -"
   ]
  },
  {
   "cell_type": "code",
   "execution_count": null,
   "metadata": {},
   "outputs": [],
   "source": [
    "#Follows this pattern\n",
    "# lambda a, b : a * b"
   ]
  },
  {
   "cell_type": "code",
   "execution_count": 36,
   "metadata": {},
   "outputs": [
    {
     "data": {
      "text/plain": [
       "4"
      ]
     },
     "execution_count": 36,
     "metadata": {},
     "output_type": "execute_result"
    }
   ],
   "source": [
    "f = lambda x : x ** 2\n",
    "f(2)"
   ]
  },
  {
   "cell_type": "code",
   "execution_count": 37,
   "metadata": {},
   "outputs": [
    {
     "data": {
      "text/plain": [
       "3"
      ]
     },
     "execution_count": 37,
     "metadata": {},
     "output_type": "execute_result"
    }
   ],
   "source": [
    "g = lambda a, b : a + b\n",
    "g(1,2)"
   ]
  },
  {
   "cell_type": "code",
   "execution_count": 48,
   "metadata": {},
   "outputs": [
    {
     "data": {
      "text/plain": [
       "120"
      ]
     },
     "execution_count": 48,
     "metadata": {},
     "output_type": "execute_result"
    }
   ],
   "source": [
    "#*a *args\n",
    "h = lambda *a : sum(a)\n",
    "h(1,2,3,4,5,6,7,8,9,10,11,12,13,14,15)"
   ]
  },
  {
   "cell_type": "markdown",
   "metadata": {},
   "source": [
    "# Map\n",
    "- - -"
   ]
  },
  {
   "cell_type": "code",
   "execution_count": 41,
   "metadata": {
    "scrolled": true
   },
   "outputs": [
    {
     "name": "stdout",
     "output_type": "stream",
     "text": [
      "<map object at 0x125af1c40>\n",
      "[20, 22, 24, 26]\n"
     ]
    }
   ],
   "source": [
    "# Map applies a function to every single element inside a list or to other iterables\n",
    "def mult(a):\n",
    "\treturn a*2\n",
    "\n",
    "myList = [10, 11, 12, 13]\n",
    "z = map(mult, myList)\n",
    "\n",
    "print(z)\n",
    "print(list(z))"
   ]
  },
  {
   "cell_type": "code",
   "execution_count": 43,
   "metadata": {},
   "outputs": [
    {
     "name": "stdout",
     "output_type": "stream",
     "text": [
      "[20, 22, 24, 26]\n"
     ]
    }
   ],
   "source": [
    "# lambda input(s) : return statement\n",
    "myList = [10, 11, 12, 13]\n",
    "q = map(lambda a : a * 2, myList)\n",
    "print(list(q))"
   ]
  },
  {
   "cell_type": "code",
   "execution_count": 45,
   "metadata": {},
   "outputs": [
    {
     "name": "stdout",
     "output_type": "stream",
     "text": [
      "[10, 22, 36, 52]\n"
     ]
    }
   ],
   "source": [
    "list1 = [10, 11, 12, 13]\n",
    "list2 = [1, 2, 3, 4, 10]\n",
    "r = map(lambda a, b: a*b, list1, list2)\n",
    "print(list(r))"
   ]
  },
  {
   "cell_type": "markdown",
   "metadata": {},
   "source": [
    "# Importing & Keywords\n",
    "- - -"
   ]
  },
  {
   "cell_type": "code",
   "execution_count": 55,
   "metadata": {
    "scrolled": true
   },
   "outputs": [
    {
     "name": "stdout",
     "output_type": "stream",
     "text": [
      "6\n",
      "3\n"
     ]
    }
   ],
   "source": [
    "#library = random\n",
    "#book = randrange\n",
    "from random import randrange\n",
    "print(randrange(1,10))\n",
    "\n",
    "import random\n",
    "print(random.randrange(1,10))"
   ]
  },
  {
   "cell_type": "code",
   "execution_count": 56,
   "metadata": {},
   "outputs": [
    {
     "name": "stdout",
     "output_type": "stream",
     "text": [
      "1\n"
     ]
    }
   ],
   "source": [
    "import random as r\n",
    "print(r.randrange(1,10))"
   ]
  },
  {
   "cell_type": "code",
   "execution_count": 58,
   "metadata": {},
   "outputs": [
    {
     "data": {
      "image/png": "[encoded data removed]",
      "text/plain": [
       "<Figure size 432x288 with 1 Axes>"
      ]
     },
     "metadata": {
      "needs_background": "light"
     },
     "output_type": "display_data"
    }
   ],
   "source": [
    "import numpy as np\n",
    "import matplotlib.pyplot as plt\n",
    "\n",
    "span = np.linspace(-10, 10, 1000)\n",
    "plt.plot(span, span ** 2)\n",
    "plt.show()"
   ]
  },
  {
   "cell_type": "markdown",
   "metadata": {},
   "source": [
    "# Gradient Descent!\n",
    "- - -"
   ]
  },
  {
   "cell_type": "code",
   "execution_count": 60,
   "metadata": {},
   "outputs": [
    {
     "data": {
      "image/png": "[encoded data removed]",
      "text/plain": [
       "<Figure size 432x288 with 1 Axes>"
      ]
     },
     "metadata": {
      "needs_background": "light"
     },
     "output_type": "display_data"
    }
   ],
   "source": [
    "# Two Functions\n",
    "# 1 function is going to be your error function\n",
    "# 2nd function is going to be the rate of how wrong you were\n",
    "\n",
    "#l = loss\n",
    "# dx = the rate at which my error changes\n",
    "l = lambda x: x**2\n",
    "dx = lambda x: 2 * x\n",
    "\n",
    "span = np.linspace(-10,10,1000)\n",
    "plt.plot(span, l(span))\n",
    "plt.show()"
   ]
  },
  {
   "cell_type": "code",
   "execution_count": 65,
   "metadata": {},
   "outputs": [
    {
     "name": "stdout",
     "output_type": "stream",
     "text": [
      "1.1533424270260494e-96\n",
      "1.3301987539783382e-192\n"
     ]
    }
   ],
   "source": [
    "# l is error function\n",
    "# dx was the slope / derivative of the error function (l)\n",
    "def gradientDescent(learning_rate = 0.1, inital_guess = 7.5):\n",
    "    x = inital_guess\n",
    "    guesses = []\n",
    "    outputs = []\n",
    "    for i in range(1000):\n",
    "        guesses.append(x)\n",
    "        outputs.append(l(x))\n",
    "        x -= learning_rate * dx(x)\n",
    "    return guesses, outputs\n",
    "\n",
    "guesses, outputs = gradientDescent()\n",
    "print(guesses[-1])\n",
    "print(outputs[-1])\n"
   ]
  },
  {
   "cell_type": "code",
   "execution_count": 67,
   "metadata": {},
   "outputs": [
    {
     "data": {
      "image/png": "[encoded data removed]",
      "text/plain": [
       "<Figure size 432x288 with 1 Axes>"
      ]
     },
     "metadata": {
      "needs_background": "light"
     },
     "output_type": "display_data"
    }
   ],
   "source": [
    "span = np.linspace(-10,10,1000)\n",
    "plt.plot(span, l(span))\n",
    "plt.scatter(guesses, outputs)\n",
    "plt.show()"
   ]
  },
  {
   "cell_type": "code",
   "execution_count": null,
   "metadata": {},
   "outputs": [],
   "source": []
  }
 ],
 "metadata": {
  "kernelspec": {
   "display_name": "Python 3",
   "language": "python",
   "name": "python3"
  },
  "language_info": {
   "codemirror_mode": {
    "name": "ipython",
    "version": 3
   },
   "file_extension": ".py",
   "mimetype": "text/x-python",
   "name": "python",
   "nbconvert_exporter": "python",
   "pygments_lexer": "ipython3",
   "version": "3.8.9"
  }
 },
 "nbformat": 4,
 "nbformat_minor": 4
}
